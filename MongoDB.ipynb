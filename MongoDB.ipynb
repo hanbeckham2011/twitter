{
 "cells": [
  {
   "cell_type": "code",
   "execution_count": 4,
   "metadata": {},
   "outputs": [
    {
     "name": "stdout",
     "output_type": "stream",
     "text": [
      "Collecting pymongo\n",
      "  Downloading pymongo-4.0.1-cp38-cp38-win_amd64.whl (354 kB)\n",
      "Installing collected packages: pymongo\n",
      "Successfully installed pymongo-4.0.1\n"
     ]
    }
   ],
   "source": [
    "#Install in import pymongo\n",
    "#!pip install pymongo\n",
    "import pymongo\n",
    "\n",
    "myclient = pymongo.MongoClient(\"mongodb://localhost:27017/\")\n",
    "\n",
    "mydb = myclient[\"pulled_tweets\"]\n",
    "print(myclient.list_database_names())\n",
    "dblist = myclient.list_database_names()\n",
    "if \"pulled_tweets\" in dblist:\n",
    "    print(\"The database exists.\")\n",
    "    \n",
    "#No output as there is no data yet\n",
    "\n",
    "mycol = mydb[\"tweets\"]\n",
    "print(mydb.list_collection_names())\n",
    "collist = mydb.list_collection_names()\n",
    "if \"tweets\" in collist:\n",
    "    print(\"The collection exists.\")\n",
    "    \n",
    "#No output as there is no data yet    \n",
    "    \n",
    "#From the directory of the csv file, run the following:\n",
    "\n",
    "#Create headers for the csv file\n",
    "!{ echo \"Polarity,tweet_Id,tweet_Date,Query,User,Text\"; cat pulled_tweets.csv; } > tweets_pulled_.csv\n",
    "#Import the data into MongoDB\n",
    "!mongoimport --type csv -d pulled_tweets -c tweets --headerline --drop tweets_pulled.csv\n",
    "\n",
    "dblist = myclient.list_database_names()\n",
    "if \"pulled_tweets\" in dblist:\n",
    "    print(\"The database exists.\")\n",
    "    \n",
    "collist = mydb.list_collection_names()\n",
    "if \"tweets\" in collist:\n",
    "    print(\"The collection exists.\")\n",
    "    \n",
    "#Connect to pyspark-mongodb-connector    \n",
    "    \n",
    "!python3 ./pyspark-mongodb-connector1.py\n",
    "\n",
    "#The following lines are to show the contents of the pyspark-mongodb-connector1.py file\n",
    "\n",
    "\"\"\"import datetime\n",
    "from pyspark.sql import SparkSession\n",
    "\n",
    "# load mongo data\n",
    "input_uri = \"mongodb://127.0.0.1/pulled_tweets.tweets\"\n",
    "output_uri = \"mongodb://127.0.0.1/pulled_tweets.tweets\"\n",
    "\n",
    "my_spark = SparkSession\\\n",
    "    .builder\\\n",
    "    .appName(\"twitter\")\\\n",
    "    .config(\"spark.mongodb.input.uri\", input_uri)\\\n",
    "    .config(\"spark.mongodb.output.uri\", output_uri)\\\n",
    "    .config('spark.jars.packages','org.mongodb.spark:mongo-spark-connector_2.12:2.4.3')\\\n",
    "    .getOrCreate()\n",
    "\n",
    "df = my_spark.read.format('com.mongodb.spark.sql.DefaultSource').load()\n",
    "\n",
    "print(df.show())\n",
    "# print(df.printSchema())\n",
    "# print(df.first())\"\"\"\n",
    "\n",
    "#Return first 20 rows\n",
    "myresult = mycol.find().limit(20)\n",
    "#print the result:\n",
    "for x in myresult:\n",
    "    print(x)"
   ]
  }
 ],
 "metadata": {
  "kernelspec": {
   "display_name": "Python 3",
   "language": "python",
   "name": "python3"
  },
  "language_info": {
   "codemirror_mode": {
    "name": "ipython",
    "version": 3
   },
   "file_extension": ".py",
   "mimetype": "text/x-python",
   "name": "python",
   "nbconvert_exporter": "python",
   "pygments_lexer": "ipython3",
   "version": "3.8.8"
  }
 },
 "nbformat": 4,
 "nbformat_minor": 4
}
